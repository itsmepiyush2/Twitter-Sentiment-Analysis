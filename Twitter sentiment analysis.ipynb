{
 "cells": [
  {
   "cell_type": "code",
   "execution_count": 4,
   "metadata": {},
   "outputs": [
    {
     "name": "stdout",
     "output_type": "stream",
     "text": [
      "Enter a keywordinspiration\n",
      "RT @melodiedakone: @IllyanaCns MDR c’est exactement le même makeup ça aurait été une inspiration ok mais la c’est le même\n",
      "Sentiment(polarity=0.5, subjectivity=0.5)\n",
      "RT @Eternal_Blazon: @amouredelavie, I must say that I am a HUGE fan of yours. You are such an inspiration to me and I would seriously love…\n",
      "Sentiment(polarity=0.022222222222222254, subjectivity=0.6888888888888888)\n",
      "@deefizzy you're a inspiration, don't say that, we loves you💔😢\n",
      "Sentiment(polarity=0.0, subjectivity=0.0)\n",
      "Everyone's life is either a warning or an example. - Tony Robbins #quote #wisdom #inspiration\n",
      "Sentiment(polarity=0.0, subjectivity=0.0)\n",
      "RT @oliviaamirandaa: People expected her to speak, just waiting to criticize whatever she had to say. Instead, she responded with silence t…\n",
      "Sentiment(polarity=-0.1, subjectivity=0.4)\n",
      "RT @graemedebruyn: One of the great ironies of life is this: he or she who serves almost always benefits more than he or she who is served.…\n",
      "Sentiment(polarity=0.65, subjectivity=0.625)\n",
      "Mass+class\n",
      "Dhanush always My inspiration  @dhanushkraja Love U sooooo much 😎😘 https://t.co/oADPSDabSO\n",
      "Sentiment(polarity=0.35, subjectivity=0.4)\n",
      "We wish you a very Happy #RamNavami. We hope that you will draw inspiration from Lord Ram and walk the path of truth and righteousness.\n",
      "Sentiment(polarity=1.0, subjectivity=1.0)\n",
      "RT @Bosslogic: Thank you #dragonballsuper for all the epicness and art inspiration.\n",
      "\n",
      "Dragonball z was created in 1986 same year I was born…\n",
      "Sentiment(polarity=0.0, subjectivity=0.125)\n",
      "@BarackObama You're an inspiration to me.\n",
      "Sentiment(polarity=0.0, subjectivity=0.0)\n",
      "RT @cuddlyvmin: “generally Arts students would not put in effort to study Maths, but Jimin is the only 1 in arts/music/dance majors to scor…\n",
      "Sentiment(polarity=0.02500000000000001, subjectivity=0.75)\n",
      "Am apreciat un videoclip pe @YouTube, https://t.co/CliZmT9ZT1 music inspiration- Inner demons/ angel warrior👼\n",
      "Sentiment(polarity=0.0, subjectivity=0.16666666666666666)\n",
      "RT @codeofvets: My first professional interview! Please listen and share the mission  &amp; inspiration of Code of Vets! We are ready for a gra…\n",
      "Sentiment(polarity=0.2020833333333333, subjectivity=0.3111111111111111)\n",
      "RT @HillaryClinton: Listening to the students from Parkland and across the country today is a reminder of what is possible when our future…\n",
      "Sentiment(polarity=0.0, subjectivity=1.0)\n",
      "RT @HillaryClinton: Listening to the students from Parkland and across the country today is a reminder of what is possible when our future…\n",
      "Sentiment(polarity=0.0, subjectivity=1.0)\n"
     ]
    }
   ],
   "source": [
    "import tweepy\n",
    "from textblob import TextBlob\n",
    "\n",
    "consumerKey = 'abDiMfEYqvZwpj7fEbDvzIUcO'\n",
    "consumerSecret = 'sFTdjF07fF8KYKVMNMxiVJZJ4pGv5rnAcswWxYhjSB8Rdpejjq'\n",
    "\n",
    "accessToken = '2368411987-5EpqJ4fs5lP1tRbnNkLzezC8gj668eoYiI7wZWG'\n",
    "accessTokenSecret = 'ONmwbfjeuRW2gvDojuDkGshkEsxPCQy8T5t2kX8xf0LHA'\n",
    "\n",
    "auth = tweepy.OAuthHandler(consumerKey, consumerSecret)\n",
    "auth.set_access_token(accessToken, accessTokenSecret)\n",
    "\n",
    "api = tweepy.API(auth)\n",
    "\n",
    "word = input(\"Enter a keyword\")\n",
    "publicTweets = api.search(word)\n",
    "for tweet in publicTweets:\n",
    "    print(tweet.text)\n",
    "    analysis = TextBlob(tweet.text)\n",
    "    print(analysis.sentiment)"
   ]
  },
  {
   "cell_type": "markdown",
   "metadata": {},
   "source": []
  }
 ],
 "metadata": {
  "kernelspec": {
   "display_name": "Python 3",
   "language": "python",
   "name": "python3"
  },
  "language_info": {
   "codemirror_mode": {
    "name": "ipython",
    "version": 3
   },
   "file_extension": ".py",
   "mimetype": "text/x-python",
   "name": "python",
   "nbconvert_exporter": "python",
   "pygments_lexer": "ipython3",
   "version": "3.6.4"
  }
 },
 "nbformat": 4,
 "nbformat_minor": 2
}
